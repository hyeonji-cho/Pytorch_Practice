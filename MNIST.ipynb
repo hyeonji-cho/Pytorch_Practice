{
  "nbformat": 4,
  "nbformat_minor": 0,
  "metadata": {
    "colab": {
      "provenance": [],
      "gpuType": "T4"
    },
    "kernelspec": {
      "name": "python3",
      "display_name": "Python 3"
    },
    "language_info": {
      "name": "python"
    },
    "accelerator": "GPU"
  },
  "cells": [
    {
      "cell_type": "markdown",
      "source": [
        "# CNN으로 손글씨 숫자 이미지 분류하기\n",
        "\n",
        ">### 1. 모듈 및 분석 환경 설정\n",
        "\n",
        ">### 2. 데이터 불러오기\n",
        "\n",
        ">### 3. 모델 학습\n",
        "\n",
        ">### 4. 모델 평가"
      ],
      "metadata": {
        "id": "OvraejPXcN5s"
      }
    },
    {
      "cell_type": "markdown",
      "source": [
        "## 1.모듈 및 분석 환경 설정\n",
        "\n"
      ],
      "metadata": {
        "id": "NKgtKFXoc_24"
      }
    },
    {
      "cell_type": "markdown",
      "source": [
        "* 모듈 불러오기"
      ],
      "metadata": {
        "id": "mxF4EbAzdPv9"
      }
    },
    {
      "cell_type": "code",
      "source": [
        "!pip install torch torchvision"
      ],
      "metadata": {
        "colab": {
          "base_uri": "https://localhost:8080/"
        },
        "id": "elrBNiQVRfPq",
        "outputId": "64639f7b-1c54-4545-e9de-ca3490ea887a"
      },
      "execution_count": 26,
      "outputs": [
        {
          "output_type": "stream",
          "name": "stdout",
          "text": [
            "Requirement already satisfied: torch in /usr/local/lib/python3.10/dist-packages (2.1.0+cu121)\n",
            "Requirement already satisfied: torchvision in /usr/local/lib/python3.10/dist-packages (0.16.0+cu121)\n",
            "Requirement already satisfied: filelock in /usr/local/lib/python3.10/dist-packages (from torch) (3.13.1)\n",
            "Requirement already satisfied: typing-extensions in /usr/local/lib/python3.10/dist-packages (from torch) (4.10.0)\n",
            "Requirement already satisfied: sympy in /usr/local/lib/python3.10/dist-packages (from torch) (1.12)\n",
            "Requirement already satisfied: networkx in /usr/local/lib/python3.10/dist-packages (from torch) (3.2.1)\n",
            "Requirement already satisfied: jinja2 in /usr/local/lib/python3.10/dist-packages (from torch) (3.1.3)\n",
            "Requirement already satisfied: fsspec in /usr/local/lib/python3.10/dist-packages (from torch) (2023.6.0)\n",
            "Requirement already satisfied: triton==2.1.0 in /usr/local/lib/python3.10/dist-packages (from torch) (2.1.0)\n",
            "Requirement already satisfied: numpy in /usr/local/lib/python3.10/dist-packages (from torchvision) (1.25.2)\n",
            "Requirement already satisfied: requests in /usr/local/lib/python3.10/dist-packages (from torchvision) (2.31.0)\n",
            "Requirement already satisfied: pillow!=8.3.*,>=5.3.0 in /usr/local/lib/python3.10/dist-packages (from torchvision) (9.4.0)\n",
            "Requirement already satisfied: MarkupSafe>=2.0 in /usr/local/lib/python3.10/dist-packages (from jinja2->torch) (2.1.5)\n",
            "Requirement already satisfied: charset-normalizer<4,>=2 in /usr/local/lib/python3.10/dist-packages (from requests->torchvision) (3.3.2)\n",
            "Requirement already satisfied: idna<4,>=2.5 in /usr/local/lib/python3.10/dist-packages (from requests->torchvision) (3.6)\n",
            "Requirement already satisfied: urllib3<3,>=1.21.1 in /usr/local/lib/python3.10/dist-packages (from requests->torchvision) (2.0.7)\n",
            "Requirement already satisfied: certifi>=2017.4.17 in /usr/local/lib/python3.10/dist-packages (from requests->torchvision) (2024.2.2)\n",
            "Requirement already satisfied: mpmath>=0.19 in /usr/local/lib/python3.10/dist-packages (from sympy->torch) (1.3.0)\n"
          ]
        }
      ]
    },
    {
      "cell_type": "code",
      "source": [
        "import torch\n",
        "import torch.nn as nn\n",
        "import torch.nn.functional as F\n",
        "import torch.optim as optim\n",
        "from torchvision import datasets, transforms\n",
        "\n",
        "from matplotlib import pyplot as plt\n",
        "%matplotlib inline"
      ],
      "metadata": {
        "id": "RlhgEC6bdO3O"
      },
      "execution_count": 34,
      "outputs": []
    },
    {
      "cell_type": "markdown",
      "source": [
        "* 분석 환경 설정"
      ],
      "metadata": {
        "id": "LMgc_xkrd0Ho"
      }
    },
    {
      "cell_type": "code",
      "source": [
        "is_cuda = torch.cuda.is_available()\n",
        "device = torch.device('cuda' if is_cuda else 'cpu')\n",
        "\n",
        "print('Current cuda device is', device)"
      ],
      "metadata": {
        "colab": {
          "base_uri": "https://localhost:8080/"
        },
        "id": "Px-mk1M0cXZc",
        "outputId": "02e900eb-0162-44fa-dfd1-2a807988e27d"
      },
      "execution_count": 35,
      "outputs": [
        {
          "output_type": "stream",
          "name": "stdout",
          "text": [
            "Current cuda device is cuda\n"
          ]
        }
      ]
    },
    {
      "cell_type": "markdown",
      "source": [
        "* HyperParameter 지정"
      ],
      "metadata": {
        "id": "C7u0kt23eSMI"
      }
    },
    {
      "cell_type": "code",
      "source": [
        "batch_size = 50\n",
        "epoch_num = 15\n",
        "learning_rate = 0.0001"
      ],
      "metadata": {
        "id": "Vm6fzbeFeVxb"
      },
      "execution_count": 36,
      "outputs": []
    },
    {
      "cell_type": "markdown",
      "source": [
        "## 2. 데이터 불러오기"
      ],
      "metadata": {
        "id": "-qZgFSMHepWh"
      }
    },
    {
      "cell_type": "code",
      "source": [
        "train_data = datasets.MNIST(root = './data', train = True, download = True, transform = transforms.ToTensor())  # transform : MNIST 데이터를 저장과 동시에 전처리\n",
        "test_data = datasets.MNIST(root = './data', train = False, download = True, transform = transforms.ToTensor())\n",
        "\n",
        "print('number of training data: ', len(train_data))\n",
        "print('number of test data: ', len(test_data))"
      ],
      "metadata": {
        "colab": {
          "base_uri": "https://localhost:8080/"
        },
        "id": "LhyKQScIes4l",
        "outputId": "01053427-f20d-47d1-94ca-2928587eebcf"
      },
      "execution_count": 37,
      "outputs": [
        {
          "output_type": "stream",
          "name": "stdout",
          "text": [
            "number of training data:  60000\n",
            "number of test data:  10000\n"
          ]
        }
      ]
    },
    {
      "cell_type": "markdown",
      "source": [
        "* MNIST 데이터 확인하기"
      ],
      "metadata": {
        "id": "V7ejPXZ-f3Te"
      }
    },
    {
      "cell_type": "code",
      "source": [
        "image, label = train_data[0]  # 첫번째 학습데이터의 입력 데이터와 정답 저장\n",
        "\n",
        "plt.imshow(image.squeeze().numpy(), cmap = 'gray')  # [1,28,28] 3차원 -> [28,28] 2차원\n",
        "plt.title('label : %s' %label)\n",
        "plt.show()"
      ],
      "metadata": {
        "colab": {
          "base_uri": "https://localhost:8080/",
          "height": 452
        },
        "id": "tZE-ydz_fx7D",
        "outputId": "5a41b2fa-eb23-4e55-a2f8-5e1d8cb55717"
      },
      "execution_count": 38,
      "outputs": [
        {
          "output_type": "display_data",
          "data": {
            "text/plain": [
              "<Figure size 640x480 with 1 Axes>"
            ],
            "image/png": "[encoded data removed]"
          },
          "metadata": {}
        }
      ]
    },
    {
      "cell_type": "markdown",
      "source": [
        "* 미니 배치 구성하기"
      ],
      "metadata": {
        "id": "_h5fZLokgpzf"
      }
    },
    {
      "cell_type": "code",
      "source": [
        "train_loader = torch.utils.data.DataLoader(dataset = train_data, batch_size = batch_size, shuffle = True)  # 학습 과정을 반복 시행할 때마다 미니 배치를 하나씩 불러옴\n",
        "test_loader = torch.utils.data.DataLoader(dataset = test_data, batch_size = batch_size, shuffle = True)\n",
        "\n",
        "first_batch = train_loader.__iter__().__next__()\n",
        "print('{:15s} | {:<25s} | {}'.format('name', 'type', 'size'))\n",
        "print('{:15s} | {:<25s} | {}'.format('Num of Batch', '', len(train_loader)))  # 60000 / 50 = 1200 미니배치\n",
        "print('{:15s} | {:<25s} | {}'.format('first_batch', str(type(first_batch)), len(first_batch)))\n",
        "print('{:15s} | {:<25s} | {}'.format('first_batch[0]', str(type(first_batch[0])), first_batch[0].shape))  # [Batch Size, Channel, Width, Height]\n",
        "print('{:15s} | {:<25s} | {}'.format('first_batch[1]', str(type(first_batch[1])), first_batch[1].shape))  # 미니 배치의 정답 50개"
      ],
      "metadata": {
        "colab": {
          "base_uri": "https://localhost:8080/"
        },
        "id": "7wDmDVM4gv8M",
        "outputId": "0368e118-20b9-4e3b-c3ed-50c8fe2efe0a"
      },
      "execution_count": 40,
      "outputs": [
        {
          "output_type": "stream",
          "name": "stdout",
          "text": [
            "name            | type                      | size\n",
            "Num of Batch    |                           | 1200\n",
            "first_batch     | <class 'list'>            | 2\n",
            "first_batch[0]  | <class 'torch.Tensor'>    | torch.Size([50, 1, 28, 28])\n",
            "first_batch[1]  | <class 'torch.Tensor'>    | torch.Size([50])\n"
          ]
        }
      ]
    },
    {
      "cell_type": "markdown",
      "source": [
        "데이터 한 개는 3차원이지만 데이터가 여러 개 쌓여 차원이 하나 더 늘어 4차원 Tensor가 된다."
      ],
      "metadata": {
        "id": "ihJiqdGXkAbG"
      }
    },
    {
      "cell_type": "markdown",
      "source": [
        "* 모델 학습"
      ],
      "metadata": {
        "id": "az-IMbcbkL7Y"
      }
    },
    {
      "cell_type": "markdown",
      "source": [
        "<center>\n",
        "<img src='https://drive.google.com/uc?id=1UGkfy6sUh_net-6_GPDhHoRpKXYEDXII' width=\"400\" /><br>\n",
        "</center>"
      ],
      "metadata": {
        "id": "esqGi9k6oeRK"
      }
    },
    {
      "cell_type": "code",
      "source": [
        "class CNN(nn.Module):  # CNN 클래스 정의\n",
        "    def __init__(self):  # 모델에서 사용되는 가중치 정의\n",
        "        super(CNN, self).__init__()  # nn.Module 클래스의 속성을 상속받고 초기화\n",
        "        self.conv1 = nn.Conv2d(1, 32, 3, 1)  # 입력채널, 출력채널, 커널, 스트라이드\n",
        "        self.conv2 = nn.Conv2d(32, 64, 3, 1)  # conv1 출력채널 = conv2 입력채널\n",
        "        self.dropout1 = nn.Dropout2d(0.25)\n",
        "        self.dropout2 = nn.Dropout2d(0.5)\n",
        "        self.fc1 = nn.Linear(9216, 128)  # 9216크기의 벡터 -> 128크기의 벡터\n",
        "        self.fc2 = nn.Linear(128, 10)  # 128크기의 벡터 -> 10크기의 벡터\n",
        "\n",
        "    def forward(self, x):\n",
        "        x = self.conv1(x)  # conv1 레이어 통과\n",
        "        x = F.relu(x)  # ReLU 활성 함수 적용\n",
        "        x = self.conv2(x)\n",
        "        x = F.relu(x)\n",
        "        x = F.max_pool2d(x, 2)\n",
        "        x = self.dropout1(x)\n",
        "        x = torch.flatten(x, 1)  # 고차원의 Tensor를 1차원 벡터로 변환\n",
        "        x = self.fc1(x)\n",
        "        x = F.relu(x)\n",
        "        x = self.dropout2(x)\n",
        "        x = self.fc2(x)\n",
        "        output = F.log_softmax(x, dim=1)\n",
        "        return output"
      ],
      "metadata": {
        "id": "Vt3noUpQkPIt"
      },
      "execution_count": 41,
      "outputs": []
    },
    {
      "cell_type": "markdown",
      "source": [
        "* Optimizer 및 손실 함수 정의"
      ],
      "metadata": {
        "id": "43qF7DDiMrph"
      }
    },
    {
      "cell_type": "code",
      "source": [
        "model = CNN().to(device)\n",
        "optimizer = optim.Adam(model.parameters(), lr = learning_rate)\n",
        "criterion = nn.CrossEntropyLoss()  # 다중 클래스 분류 문제 -> 교차 엔트로피 사용"
      ],
      "metadata": {
        "id": "SoZVIAYMMuc_"
      },
      "execution_count": 42,
      "outputs": []
    },
    {
      "cell_type": "markdown",
      "source": [
        "* 설계한 CNN 모형 확인하기"
      ],
      "metadata": {
        "id": "yRS4lpI_NNK9"
      }
    },
    {
      "cell_type": "code",
      "source": [
        "print(model)"
      ],
      "metadata": {
        "colab": {
          "base_uri": "https://localhost:8080/"
        },
        "id": "ki0jSLFzQfvF",
        "outputId": "e4658fb0-6058-4942-89e3-c37c28aea3f0"
      },
      "execution_count": 43,
      "outputs": [
        {
          "output_type": "stream",
          "name": "stdout",
          "text": [
            "CNN(\n",
            "  (conv1): Conv2d(1, 32, kernel_size=(3, 3), stride=(1, 1))\n",
            "  (conv2): Conv2d(32, 64, kernel_size=(3, 3), stride=(1, 1))\n",
            "  (dropout1): Dropout2d(p=0.25, inplace=False)\n",
            "  (dropout2): Dropout2d(p=0.5, inplace=False)\n",
            "  (fc1): Linear(in_features=9216, out_features=128, bias=True)\n",
            "  (fc2): Linear(in_features=128, out_features=10, bias=True)\n",
            ")\n"
          ]
        }
      ]
    },
    {
      "cell_type": "markdown",
      "source": [
        "* 모델 학습"
      ],
      "metadata": {
        "id": "oSY6_ZsvR7WX"
      }
    },
    {
      "cell_type": "code",
      "source": [
        "model.train()  # 학습 모드로 실행\n",
        "i = 0\n",
        "for epoch in range(epoch_num):\n",
        "    for data, target in train_loader:\n",
        "        data = data.to(device)  # 미니 배치의 데이터를 device에 할당\n",
        "        target = target.to(device)\n",
        "        optimizer.zero_grad()  # 학습 시작 전, optimizer의 gradient 초기화\n",
        "        output = model(data)  # FeedForward 연산으로 결괏값 계산\n",
        "        loss = criterion(output, target)  # 손실 함수 계산\n",
        "        loss.backward()  # 손실 함수를 통해 Gradient 계산\n",
        "        optimizer.step()  # Gradient 통해 모델의 가중치 업데이트\n",
        "        if i % 1000 == 0:\n",
        "            print('Train Step: {}\\tLoss: {:.3f}'.format(i, loss.item()))  # 손실함수 출력\n",
        "        i += 1"
      ],
      "metadata": {
        "colab": {
          "base_uri": "https://localhost:8080/"
        },
        "id": "4-QoUKCpR85P",
        "outputId": "2948a1db-dc41-4a43-bd62-e6763a1d24df"
      },
      "execution_count": 44,
      "outputs": [
        {
          "output_type": "stream",
          "name": "stderr",
          "text": [
            "/usr/local/lib/python3.10/dist-packages/torch/nn/functional.py:1345: UserWarning: dropout2d: Received a 2-D input to dropout2d, which is deprecated and will result in an error in a future release. To retain the behavior and silence this warning, please use dropout instead. Note that dropout2d exists to provide channel-wise dropout on inputs with 2 spatial dimensions, a channel dimension, and an optional batch dimension (i.e. 3D or 4D inputs).\n",
            "  warnings.warn(warn_msg)\n"
          ]
        },
        {
          "output_type": "stream",
          "name": "stdout",
          "text": [
            "Train Step: 0\tLoss: 2.308\n",
            "Train Step: 1000\tLoss: 0.145\n",
            "Train Step: 2000\tLoss: 0.178\n",
            "Train Step: 3000\tLoss: 0.195\n",
            "Train Step: 4000\tLoss: 0.035\n",
            "Train Step: 5000\tLoss: 0.176\n",
            "Train Step: 6000\tLoss: 0.050\n",
            "Train Step: 7000\tLoss: 0.070\n",
            "Train Step: 8000\tLoss: 0.054\n",
            "Train Step: 9000\tLoss: 0.107\n",
            "Train Step: 10000\tLoss: 0.023\n",
            "Train Step: 11000\tLoss: 0.040\n",
            "Train Step: 12000\tLoss: 0.055\n",
            "Train Step: 13000\tLoss: 0.026\n",
            "Train Step: 14000\tLoss: 0.038\n",
            "Train Step: 15000\tLoss: 0.031\n",
            "Train Step: 16000\tLoss: 0.038\n",
            "Train Step: 17000\tLoss: 0.002\n"
          ]
        }
      ]
    },
    {
      "cell_type": "markdown",
      "source": [
        "* 모델 평가"
      ],
      "metadata": {
        "id": "vuD8jkAnTJxZ"
      }
    },
    {
      "cell_type": "code",
      "source": [
        "model.eval()  # 평가 모드 실행\n",
        "correct = 0\n",
        "for data, target in test_loader:\n",
        "    data = data.to(device)\n",
        "    target = target.to(device)\n",
        "    output = model(data)  # 미니 배치 데이터를 모델에 통과시켜 결괏값 계산\n",
        "    prediction = output.data.max(1)[1]  # Log-Softmax 값이 가장 큰 인덱스를 예측값으로 저장\n",
        "    correct += prediction.eq(target.data).sum()\n",
        "\n",
        "print('Test set: Accuracy: {:.2f}%'.format(100. * correct / len(test_loader.dataset)))"
      ],
      "metadata": {
        "colab": {
          "base_uri": "https://localhost:8080/"
        },
        "id": "_caB6OfaTMRD",
        "outputId": "bd8f8e22-26b8-4388-ef46-145387b5b620"
      },
      "execution_count": 45,
      "outputs": [
        {
          "output_type": "stream",
          "name": "stderr",
          "text": [
            "/usr/local/lib/python3.10/dist-packages/torch/nn/functional.py:1345: UserWarning: dropout2d: Received a 2-D input to dropout2d, which is deprecated and will result in an error in a future release. To retain the behavior and silence this warning, please use dropout instead. Note that dropout2d exists to provide channel-wise dropout on inputs with 2 spatial dimensions, a channel dimension, and an optional batch dimension (i.e. 3D or 4D inputs).\n",
            "  warnings.warn(warn_msg)\n"
          ]
        },
        {
          "output_type": "stream",
          "name": "stdout",
          "text": [
            "Test set: Accuracy: 98.96%\n"
          ]
        }
      ]
    },
    {
      "cell_type": "markdown",
      "source": [
        "output.data.max(1)[1]\n",
        "\n",
        "\n",
        "output: 모델의 출력으로, 모델이 각 클래스에 대해 계산한 로그 확률값(Log probabilities)을 포함하는 Tensor입니다. 크기는 (배치 크기, 클래스 수)입니다.\n",
        "\n",
        ".data: PyTorch에서 Tensor의 값을 직접 접근하기 위한 속성입니다. 이를 통해 Tensor의 값을 조작하고 검사할 수 있습니다. (단, .data를 사용할 때는 기울기 정보가 무시됩니다.)\n",
        "\n",
        ".max(1): 각 행(row)에서 최댓값을 반환하는 함수입니다. 이 경우에는 각 데이터 샘플에 대해 최댓값과 해당 최댓값의 인덱스를 반환합니다. 반환값은 튜플 형태로 (최댓값, 최댓값의 인덱스)입니다.\n",
        "\n",
        "[1]: 튜플의 두 번째 요소를 선택합니다. 여기서는 최댓값의 인덱스에 해당하는 부분입니다. 따라서 최종적으로 반환되는 값은 각 데이터 샘플에 대한 예측된 클래스의 인덱스를 나타내는 Tensor입니다."
      ],
      "metadata": {
        "id": "hJjreCDoUEU2"
      }
    }
  ]
}